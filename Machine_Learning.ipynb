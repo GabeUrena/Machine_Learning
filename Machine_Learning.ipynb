{
 "cells": [
  {
   "cell_type": "code",
   "execution_count": 50,
   "id": "d88a4a5e",
   "metadata": {},
   "outputs": [
    {
     "data": {
      "text/plain": [
       "array(['HipHop', 'Dance'], dtype=object)"
      ]
     },
     "execution_count": 50,
     "metadata": {},
     "output_type": "execute_result"
    }
   ],
   "source": [
    "import pandas as pd\n",
    "from sklearn.tree import DecisionTreeClassifier # popular decision algorithm\n",
    "\n",
    "music_data = pd.read_csv(\"music.csv\")\n",
    "# music_data     COLLECTED DATA\n",
    "x = music_data.drop(columns=[\"genre\"])# split the data into two part. The input set and output set\n",
    "y = music_data[\"genre\"] #output set is the prediction, if its trained we give it another input set\n",
    "\n",
    "model = DecisionTreeClassifier()\n",
    "model.fit(x.values,y.values)\n",
    "predictions = model.predict([ [21, 1], [22, 0] ]) #the data sheet was used to train. the arrays we input are the inputset, what we want the app to predict\n",
    "# type predictions to see the results\n",
    "predictions\n",
    "\n"
   ]
  },
  {
   "cell_type": "code",
   "execution_count": 47,
   "id": "aff541eb",
   "metadata": {},
   "outputs": [
    {
     "data": {
      "text/plain": [
       "0.3333333333333333"
      ]
     },
     "execution_count": 47,
     "metadata": {},
     "output_type": "execute_result"
    }
   ],
   "source": [
    "#testing how accurate the process is\n",
    "\n",
    "import pandas as pd\n",
    "from sklearn.tree import DecisionTreeClassifier # popular decision algorithm\n",
    "from sklearn.model_selection import train_test_split # for accuracy calc\n",
    "from sklearn.metrics import accuracy_score \n",
    "\n",
    "music_data = pd.read_csv(\"music.csv\")\n",
    "# music_data     COLLECTED DATA\n",
    "X = music_data.drop(columns=[\"genre\"])# split the data into two part. The input set and output set\n",
    "y = music_data[\"genre\"] #output set is the prediction, if its trained we give it another input set\n",
    "x_train, x_test, y_train, y_test = train_test_split(x, y, test_size=0.8) #train_test_split takes in both input and output sets and how much data you want to allocate for testing. 0.2 is 20% \n",
    "\n",
    "\n",
    "model = DecisionTreeClassifier()\n",
    "model.fit(x_train,y_train)\n",
    "predictions = model.predict(x_test) #the data sheet was used to train. the arrays we input are the inputset, what we want the app to predict\n",
    "# type predictions to see the results\n",
    "\n",
    "score = accuracy_score(y_test, predictions)\n",
    "score\n"
   ]
  },
  {
   "cell_type": "code",
   "execution_count": 55,
   "id": "cd74cc52",
   "metadata": {},
   "outputs": [
    {
     "data": {
      "text/plain": [
       "array(['HipHop'], dtype=object)"
      ]
     },
     "execution_count": 55,
     "metadata": {},
     "output_type": "execute_result"
    }
   ],
   "source": [
    "# Persisting Model\n",
    "\n",
    "import pandas as pd\n",
    "from sklearn.tree import DecisionTreeClassifier # popular decision algorithm\n",
    "import joblib\n",
    "\n",
    "\n",
    "# music_data = pd.read_csv(\"music.csv\")\n",
    "# # music_data     COLLECTED DATA\n",
    "# x = music_data.drop(columns=[\"genre\"])# split the data into two part. The input set and output set\n",
    "# y = music_data[\"genre\"] #output set is the prediction, if its trained we give it another input set\n",
    "\n",
    "# model = DecisionTreeClassifier()\n",
    "# model.fit(x.values,y.values)\n",
    "\n",
    "\n",
    "#joblib.dump(model,\"music-recommender.joblib\") tosses the data into a folder next to your notebook\n",
    "joblib.load(\"music-recommender.joblib\") # return trained model\n",
    "predictions = model.predict([ [21, 1] ])\n",
    "predictions\n",
    "\n",
    "\n",
    "#predictions = model.predict([ [21, 1], [22, 0] ]) #the data sheet was used to train. the arrays we input are the inputset, what we want the app to predict\n",
    "\n",
    "\n",
    "# type predictions to see the results\n",
    "\n"
   ]
  },
  {
   "cell_type": "code",
   "execution_count": 56,
   "id": "f32be223",
   "metadata": {},
   "outputs": [],
   "source": [
    "#visualizing data trees\n",
    "\n",
    "import pandas as pd\n",
    "from sklearn.tree import DecisionTreeClassifier # popular decision algorithm\n",
    "from sklearn import tree\n",
    "\n",
    "\n",
    "music_data = pd.read_csv(\"music.csv\")\n",
    "# music_data     COLLECTED DATA\n",
    "x = music_data.drop(columns=[\"genre\"])# split the data into two part. The input set and output set\n",
    "y = music_data[\"genre\"] #output set is the prediction, if its trained we give it another input set\n",
    "\n",
    "model = DecisionTreeClassifier()\n",
    "model.fit(x.values,y.values)\n",
    "\n",
    "tree.export_graphviz(model,out_file=\"music-recommender.dot\",\n",
    "                    feature_names=[\"age\", \"gender\"],\n",
    "                    class_names=sorted(y.unique()),\n",
    "                     label=\"all\",\n",
    "                     rounded=True,\n",
    "                     filled=True)\n",
    "\n",
    "# type predictions to see the results\n"
   ]
  },
  {
   "cell_type": "code",
   "execution_count": null,
   "id": "901f5ac7",
   "metadata": {},
   "outputs": [],
   "source": []
  }
 ],
 "metadata": {
  "kernelspec": {
   "display_name": "Python 3 (ipykernel)",
   "language": "python",
   "name": "python3"
  },
  "language_info": {
   "codemirror_mode": {
    "name": "ipython",
    "version": 3
   },
   "file_extension": ".py",
   "mimetype": "text/x-python",
   "name": "python",
   "nbconvert_exporter": "python",
   "pygments_lexer": "ipython3",
   "version": "3.11.5"
  }
 },
 "nbformat": 4,
 "nbformat_minor": 5
}
